{
 "cells": [
  {
   "cell_type": "code",
   "execution_count": 22,
   "metadata": {},
   "outputs": [
    {
     "data": {
      "application/vnd.jupyter.widget-view+json": {
       "model_id": "e9048ad45b4443f4a504513d46c04d69",
       "version_major": 2,
       "version_minor": 0
      },
      "text/plain": [
       "A Jupyter Widget"
      ]
     },
     "metadata": {},
     "output_type": "display_data"
    },
    {
     "data": {
      "text/plain": [
       "<function __main__.my_function>"
      ]
     },
     "execution_count": 22,
     "metadata": {},
     "output_type": "execute_result"
    }
   ],
   "source": [
    "from ipywidgets import interact\n",
    " \n",
    "def my_function(x):\n",
    "    return x\n",
    " \n",
    "# create a slider\n",
    "interact(my_function, x=20)"
   ]
  },
  {
   "cell_type": "code",
   "execution_count": 369,
   "metadata": {
    "collapsed": true
   },
   "outputs": [],
   "source": [
    "import ipywidgets as widgets\n",
    "import math\n",
    "import numpy as np"
   ]
  },
  {
   "cell_type": "code",
   "execution_count": 24,
   "metadata": {
    "collapsed": true
   },
   "outputs": [],
   "source": [
    "import rebound"
   ]
  },
  {
   "cell_type": "code",
   "execution_count": 25,
   "metadata": {
    "collapsed": true
   },
   "outputs": [],
   "source": [
    "%matplotlib inline"
   ]
  },
  {
   "cell_type": "code",
   "execution_count": 26,
   "metadata": {
    "collapsed": true
   },
   "outputs": [],
   "source": [
    "w_a = widgets.FloatSlider(\n",
    "                value=1,\n",
    "                min=1,\n",
    "                max=10.0,\n",
    "                step=0.001,\n",
    "                description='a:',\n",
    "                disabled=False,\n",
    "                continuous_update=False,\n",
    "                orientation='horizontal',\n",
    "                readout=True,\n",
    "                readout_format='.5f',\n",
    "            )"
   ]
  },
  {
   "cell_type": "code",
   "execution_count": 27,
   "metadata": {
    "collapsed": true
   },
   "outputs": [],
   "source": [
    "w_e = widgets.FloatSlider(\n",
    "                value=0.5,\n",
    "                min=0,\n",
    "                max=1,\n",
    "                step=0.001,\n",
    "                description='e:',\n",
    "                disabled=False,\n",
    "                continuous_update=False,\n",
    "                orientation='horizontal',\n",
    "                readout=True,\n",
    "                readout_format='.5f',\n",
    "            )"
   ]
  },
  {
   "cell_type": "code",
   "execution_count": 28,
   "metadata": {
    "collapsed": true
   },
   "outputs": [],
   "source": [
    "w_i = widgets.FloatSlider(\n",
    "                value=0.0,\n",
    "                min=0,\n",
    "                max=2*math.pi,\n",
    "                step=0.001,\n",
    "                description='i:',\n",
    "                disabled=False,\n",
    "                continuous_update=False,\n",
    "                orientation='horizontal',\n",
    "                readout=True,\n",
    "                readout_format='.5f',\n",
    "            )"
   ]
  },
  {
   "cell_type": "code",
   "execution_count": 29,
   "metadata": {
    "collapsed": true
   },
   "outputs": [],
   "source": [
    "w_Omega = widgets.FloatSlider(\n",
    "                value=0.0,\n",
    "                min=0,\n",
    "                max=2*math.pi,\n",
    "                step=0.001,\n",
    "                description='Omega:',\n",
    "                disabled=False,\n",
    "                continuous_update=False,\n",
    "                orientation='horizontal',\n",
    "                readout=True,\n",
    "                readout_format='.5f',\n",
    "            )"
   ]
  },
  {
   "cell_type": "code",
   "execution_count": 30,
   "metadata": {
    "collapsed": true
   },
   "outputs": [],
   "source": [
    "w_omega= widgets.FloatSlider(\n",
    "                value=0.0,\n",
    "                min=0,\n",
    "                max=2*math.pi,\n",
    "                step=0.001,\n",
    "                description='omega:',\n",
    "                disabled=False,\n",
    "                continuous_update=False,\n",
    "                orientation='horizontal',\n",
    "                readout=True,\n",
    "                readout_format='.5f',\n",
    "            )"
   ]
  },
  {
   "cell_type": "code",
   "execution_count": 31,
   "metadata": {
    "collapsed": true
   },
   "outputs": [],
   "source": [
    "w_nu= widgets.FloatSlider(\n",
    "                value=0.0,\n",
    "                min=0,\n",
    "                max=2*math.pi,\n",
    "                step=0.001,\n",
    "                description='nu:',\n",
    "                disabled=False,\n",
    "                continuous_update=False,\n",
    "                orientation='horizontal',\n",
    "                readout=True,\n",
    "                readout_format='.5f',\n",
    "            )"
   ]
  },
  {
   "cell_type": "code",
   "execution_count": 32,
   "metadata": {
    "collapsed": true
   },
   "outputs": [],
   "source": [
    "##Angular momentum\n",
    "#widget_h_x = widgets.FloatText(\n",
    "#                value=0.0,\n",
    "#                description='I:',\n",
    "#                disabled=False,\n",
    "#                width = 2\n",
    "#            )\n",
    "#widget_h_y = widgets.FloatText(\n",
    "#                value=0.0,\n",
    "#                description='J:',\n",
    "#                disabled=False\n",
    "#            )\n",
    "#widget_h_z = widgets.FloatText(\n",
    "#                value=0.0,\n",
    "#                description='K:',\n",
    "#                disabled=False\n",
    "#            )\n",
    "#widget_h_vec = widgets.HBox([widget_h_x, widget_h_y, widget_h_z], description=\"h:\")\n",
    "w_h_vec = widgets.Text(\n",
    "        value='[]',\n",
    "        placeholder='[1,0,0]',\n",
    "        description='h:',\n",
    "        disabled=False\n",
    "        )"
   ]
  },
  {
   "cell_type": "code",
   "execution_count": 33,
   "metadata": {
    "collapsed": true
   },
   "outputs": [],
   "source": [
    "w_e_vec = widgets.Text(\n",
    "        value='[]',\n",
    "        placeholder='[1,0,0]',\n",
    "        description='e_vec:',\n",
    "        disabled=False\n",
    "        )"
   ]
  },
  {
   "cell_type": "code",
   "execution_count": 34,
   "metadata": {
    "collapsed": true
   },
   "outputs": [],
   "source": [
    "w_n_vec = widgets.Text(\n",
    "        value='[]',\n",
    "        placeholder='[1,0,0]',\n",
    "        description='n_vec:',\n",
    "        disabled=False\n",
    "        )"
   ]
  },
  {
   "cell_type": "code",
   "execution_count": 35,
   "metadata": {
    "collapsed": true
   },
   "outputs": [],
   "source": [
    "w_v_vec = widgets.Text(\n",
    "        value='[]',\n",
    "        placeholder='[1,0,0]',\n",
    "        description='v:',\n",
    "        disabled=False\n",
    "        )"
   ]
  },
  {
   "cell_type": "code",
   "execution_count": 36,
   "metadata": {
    "collapsed": true
   },
   "outputs": [],
   "source": [
    "w_r_vec = widgets.Text(\n",
    "        value='[]',\n",
    "        placeholder='[1,0,0]',\n",
    "        description='r:',\n",
    "        disabled=False\n",
    "        )"
   ]
  },
  {
   "cell_type": "code",
   "execution_count": 37,
   "metadata": {
    "collapsed": true
   },
   "outputs": [],
   "source": [
    "w_E = widgets.FloatText(\n",
    "        value=0,\n",
    "        description='E:',\n",
    "        disabled=False\n",
    "        )"
   ]
  },
  {
   "cell_type": "code",
   "execution_count": 38,
   "metadata": {
    "collapsed": true
   },
   "outputs": [],
   "source": [
    "w_p = widgets.FloatText(\n",
    "        value=0,\n",
    "        description='p:',\n",
    "        disabled=False\n",
    "        )"
   ]
  },
  {
   "cell_type": "code",
   "execution_count": 39,
   "metadata": {
    "collapsed": true
   },
   "outputs": [],
   "source": [
    "w_Pi = widgets.FloatText(\n",
    "        value=0,\n",
    "        description='Pi:',\n",
    "        disabled=False\n",
    "        )"
   ]
  },
  {
   "cell_type": "code",
   "execution_count": 40,
   "metadata": {
    "collapsed": true
   },
   "outputs": [],
   "source": [
    "w_E = widgets.FloatText(\n",
    "        value=0,\n",
    "        description='E:',\n",
    "        disabled=False\n",
    "        )"
   ]
  },
  {
   "cell_type": "code",
   "execution_count": 485,
   "metadata": {
    "collapsed": true
   },
   "outputs": [],
   "source": [
    "del from_params\n",
    "del button1\n",
    "del from_r_v\n",
    "del button2\n",
    "del from_constants_of_motion\n",
    "del button3"
   ]
  },
  {
   "cell_type": "code",
   "execution_count": 486,
   "metadata": {
    "collapsed": true
   },
   "outputs": [],
   "source": [
    "button1 = widgets.Button(description=\"From Params\")\n",
    "button2 = widgets.Button(description=\"From position and velocity\")\n",
    "button3 = widgets.Button(description=\"From constants of motion\")"
   ]
  },
  {
   "cell_type": "code",
   "execution_count": 487,
   "metadata": {
    "collapsed": true
   },
   "outputs": [],
   "source": [
    "import orbit"
   ]
  },
  {
   "cell_type": "code",
   "execution_count": 488,
   "metadata": {},
   "outputs": [
    {
     "data": {
      "text/plain": [
       "<module 'orbit' from 'orbit.pyc'>"
      ]
     },
     "execution_count": 488,
     "metadata": {},
     "output_type": "execute_result"
    }
   ],
   "source": [
    "reload(orbit)"
   ]
  },
  {
   "cell_type": "code",
   "execution_count": 489,
   "metadata": {
    "collapsed": true
   },
   "outputs": [],
   "source": [
    "from orbit import Orbit"
   ]
  },
  {
   "cell_type": "code",
   "execution_count": 490,
   "metadata": {
    "collapsed": true
   },
   "outputs": [],
   "source": [
    "def update_widgets(params):\n",
    "    w_a.value = params[\"a\"]\n",
    "    w_e.value = params[\"e\"]\n",
    "    w_Omega.value = params[\"Omega\"]\n",
    "    w_omega.value = params[\"omega\"]\n",
    "    w_i.value = params[\"i\"]\n",
    "    w_nu.value = params[\"nu\"]\n",
    "    w_p.value = params[\"p\"]\n",
    "    w_e_vec.value = str(list(params[\"e_vec\"]))\n",
    "    w_h_vec.value = str(list(params[\"h_vec\"]))\n",
    "    w_n_vec.value = str(list(params[\"n_vec\"]))\n",
    "    w_r_vec.value = str(list(params[\"r_vec\"]))\n",
    "    w_v_vec.value = str(list(params[\"v_vec\"]))\n",
    "    w_Pi.value = params[\"Pi\"]\n",
    "    w_E.value = params[\"E\"]"
   ]
  },
  {
   "cell_type": "code",
   "execution_count": 491,
   "metadata": {
    "collapsed": true
   },
   "outputs": [],
   "source": [
    "def plot_orbit(params, sim, fig):\n",
    "\n",
    "    sim.add(m=1e-5, e=params[\"e\"], a=params[\"a\"], \n",
    "            inc=params[\"i\"], f=params[\"nu\"], \n",
    "            Omega=params[\"Omega\"], omega=params[\"omega\"])\n",
    "    plt.close(fig)\n",
    "    fig = rebound.OrbitPlot(sim, unitlabel=\"[AU]\", color=True, periastron=True, figsize=(10,8), \n",
    "                            slices=False)\n",
    "    "
   ]
  },
  {
   "cell_type": "code",
   "execution_count": 492,
   "metadata": {
    "collapsed": true
   },
   "outputs": [],
   "source": [
    "import matplotlib.pyplot as plt\n",
    "from IPython.display import display, clear_output"
   ]
  },
  {
   "cell_type": "code",
   "execution_count": 493,
   "metadata": {
    "collapsed": true
   },
   "outputs": [],
   "source": [
    "sim = rebound.Simulation()\n",
    "sim.add(m=1)"
   ]
  },
  {
   "cell_type": "code",
   "execution_count": 494,
   "metadata": {
    "collapsed": true
   },
   "outputs": [],
   "source": [
    "def from_params(b):\n",
    "    a = w_a.value\n",
    "    e = w_e.value\n",
    "    i = w_i.value\n",
    "    Omega = w_Omega.value\n",
    "    omega = w_omega.value\n",
    "    nu = w_nu.value\n",
    "    orbit = Orbit()\n",
    "    orbit.from_params(a, e, Omega, omega, i, nu)\n",
    "    params = orbit.get_params()\n",
    "    update_widgets(params)\n",
    "\n",
    "    with w_out:\n",
    "        clear_output(wait=True)\n",
    "        plot_orbit(params, sim, fig)\n",
    "        plt.show()\n",
    "    "
   ]
  },
  {
   "cell_type": "code",
   "execution_count": 495,
   "metadata": {
    "collapsed": true
   },
   "outputs": [],
   "source": [
    "def from_r_v(b):\n",
    "    r_vec = np.array(eval(w_r_vec.value))\n",
    "    v_vec = np.array(eval(w_v_vec.value))\n",
    "    \n",
    "    orbit = Orbit()\n",
    "    orbit.from_r_v(r_vec, v_vec)\n",
    "    params = orbit.get_params()\n",
    "    update_widgets(params)\n",
    "\n",
    "    with w_out:\n",
    "        clear_output(wait=True)\n",
    "        plot_orbit(params, sim, fig)\n",
    "        plt.show()"
   ]
  },
  {
   "cell_type": "code",
   "execution_count": 496,
   "metadata": {
    "collapsed": true
   },
   "outputs": [],
   "source": [
    "def from_constants_of_motion(b):\n",
    "    h_vec = np.array(eval(w_h_vec.value))\n",
    "    e_vec = np.array(eval(w_e_vec.value))\n",
    "    n_vec = np.array(eval(w_n_vec.value))\n",
    "    nu = w_nu.value\n",
    "    \n",
    "    orbit = Orbit()\n",
    "    orbit.from_constants_of_motion(h_vec, e_vec, n_vec, nu)\n",
    "    params = orbit.get_params()\n",
    "    update_widgets(params)\n",
    "\n",
    "    with w_out:\n",
    "        clear_output(wait=True)\n",
    "        plot_orbit(params, sim, fig)\n",
    "        plt.show()"
   ]
  },
  {
   "cell_type": "code",
   "execution_count": 497,
   "metadata": {
    "collapsed": true
   },
   "outputs": [],
   "source": [
    "button1.on_click(from_params)\n",
    "button2.on_click(from_r_v)\n",
    "button3.on_click(from_constants_of_motion)"
   ]
  },
  {
   "cell_type": "code",
   "execution_count": 498,
   "metadata": {
    "collapsed": true
   },
   "outputs": [],
   "source": [
    "w_out = widgets.Output()"
   ]
  },
  {
   "cell_type": "code",
   "execution_count": 499,
   "metadata": {},
   "outputs": [
    {
     "data": {
      "text/plain": [
       "<matplotlib.figure.Figure at 0x7f4fef876690>"
      ]
     },
     "metadata": {},
     "output_type": "display_data"
    }
   ],
   "source": [
    "with w_out:\n",
    "    fig = plt.figure()"
   ]
  },
  {
   "cell_type": "code",
   "execution_count": 500,
   "metadata": {
    "collapsed": true
   },
   "outputs": [],
   "source": [
    "w_def = widgets.HBox([widgets.VBox([w_a, w_e, w_i, \n",
    "                            w_Omega, w_omega, w_nu, w_Pi,\n",
    "                            w_p, w_E,\n",
    "                            w_h_vec, w_e_vec, w_n_vec,\n",
    "                           w_v_vec, w_r_vec,\n",
    "                           widgets.HBox([button1, button2, button3])]), w_out])"
   ]
  },
  {
   "cell_type": "code",
   "execution_count": 501,
   "metadata": {},
   "outputs": [
    {
     "data": {
      "application/vnd.jupyter.widget-view+json": {
       "model_id": "c5cefc7800524914b11431c2bbbe4f0d",
       "version_major": 2,
       "version_minor": 0
      },
      "text/plain": [
       "A Jupyter Widget"
      ]
     },
     "metadata": {},
     "output_type": "display_data"
    }
   ],
   "source": [
    "display(w_def)"
   ]
  },
  {
   "cell_type": "code",
   "execution_count": 94,
   "metadata": {},
   "outputs": [
    {
     "data": {
      "application/vnd.jupyter.widget-view+json": {
       "model_id": "f78767dc3aa449dcb579e8df0483953c",
       "version_major": 2,
       "version_minor": 0
      },
      "text/plain": [
       "A Jupyter Widget"
      ]
     },
     "metadata": {},
     "output_type": "display_data"
    }
   ],
   "source": [
    "\n",
    "    \n",
    "\n",
    "out = widgets.interactive_output(f, {'e': w_e, \n",
    "                                     'a': w_a, \n",
    "                                     'i': w_i,\n",
    "                                     'Omega': w_Omega,\n",
    "                                     'omega': w_omega,\n",
    "                                    'nu': w_nu})\n",
    "\n",
    "widgets.HBox([widgets.VBox([w_a, w_e, w_i, \n",
    "                            w_Omega, w_omega, w_nu, w_Pi,\n",
    "                            w_p, w_E,\n",
    "                            w_h, w_e_vec, w_n_vec,\n",
    "                           w_v_vec, w_r_vec,\n",
    "                           widgets.HBox([button1, button2, button3])]), out])"
   ]
  },
  {
   "cell_type": "code",
   "execution_count": 77,
   "metadata": {},
   "outputs": [
    {
     "data": {
      "application/vnd.jupyter.widget-view+json": {
       "model_id": "fbfc94546d934d9696318d112942e08c",
       "version_major": 2,
       "version_minor": 0
      },
      "text/plain": [
       "A Jupyter Widget"
      ]
     },
     "metadata": {},
     "output_type": "display_data"
    }
   ],
   "source": [
    "display(w_a)\n",
    "w_h.value=str([1,2,3])"
   ]
  },
  {
   "cell_type": "code",
   "execution_count": null,
   "metadata": {
    "collapsed": true
   },
   "outputs": [],
   "source": []
  },
  {
   "cell_type": "code",
   "execution_count": null,
   "metadata": {
    "collapsed": true
   },
   "outputs": [],
   "source": []
  },
  {
   "cell_type": "code",
   "execution_count": 5,
   "metadata": {},
   "outputs": [
    {
     "data": {
      "application/vnd.jupyter.widget-view+json": {
       "model_id": "05de3ac76d5a4365b6d887118cfc5a17",
       "version_major": 2,
       "version_minor": 0
      },
      "text/plain": [
       "A Jupyter Widget"
      ]
     },
     "metadata": {},
     "output_type": "display_data"
    }
   ],
   "source": [
    "display(widget_a)"
   ]
  },
  {
   "cell_type": "code",
   "execution_count": null,
   "metadata": {
    "collapsed": true
   },
   "outputs": [],
   "source": []
  }
 ],
 "metadata": {
  "kernelspec": {
   "display_name": "Python 2",
   "language": "python",
   "name": "python2"
  },
  "language_info": {
   "codemirror_mode": {
    "name": "ipython",
    "version": 2
   },
   "file_extension": ".py",
   "mimetype": "text/x-python",
   "name": "python",
   "nbconvert_exporter": "python",
   "pygments_lexer": "ipython2",
   "version": "2.7.14"
  }
 },
 "nbformat": 4,
 "nbformat_minor": 2
}
