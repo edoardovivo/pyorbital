{
 "cells": [
  {
   "cell_type": "markdown",
   "metadata": {},
   "source": [
    "# How does an orbit change if at a certain point, we modify the velocity?"
   ]
  },
  {
   "cell_type": "code",
   "execution_count": 2,
   "metadata": {
    "collapsed": true
   },
   "outputs": [],
   "source": [
    "import math\n",
    "import numpy as np"
   ]
  },
  {
   "cell_type": "code",
   "execution_count": 163,
   "metadata": {
    "collapsed": true
   },
   "outputs": [],
   "source": [
    "import rebound"
   ]
  },
  {
   "cell_type": "code",
   "execution_count": 164,
   "metadata": {
    "collapsed": true
   },
   "outputs": [],
   "source": [
    "%matplotlib inline"
   ]
  },
  {
   "cell_type": "code",
   "execution_count": null,
   "metadata": {
    "collapsed": true
   },
   "outputs": [],
   "source": []
  },
  {
   "cell_type": "code",
   "execution_count": 315,
   "metadata": {
    "collapsed": true
   },
   "outputs": [],
   "source": [
    "class Orbit():\n",
    "    \n",
    "    def __init__(self):\n",
    "        #self.e_vec = np.array([0, 0, 0])\n",
    "        #self.h_vec = np.array([0, 0, 0])\n",
    "        #self.n_vec = np.array([0, 0, 0])\n",
    "        #self.h = 0\n",
    "        #self.E = 0\n",
    "        #self.Omega = 0\n",
    "        #self.omega = 0\n",
    "        #self.i = 0\n",
    "        #self.e = 0\n",
    "        #self.a = 0\n",
    "        #self.nu = 0\n",
    "        #self.Pi = 0\n",
    "        #self.p = 0\n",
    "        #self.r_vec = np.array([0, 0, 0])\n",
    "        #self.v_vec = np.array([0, 0, 0])\n",
    "        #self.r = 0\n",
    "        #self.v = 0\n",
    "        return None\n",
    "        \n",
    "    \n",
    "    def get_params(self):\n",
    "        params = {\n",
    "            \"a\": self.a,\n",
    "            \"e\": self.e,\n",
    "            \"i\": self.i,\n",
    "            \"Omega\": self.Omega,\n",
    "            \"omega\": self.omega,\n",
    "            \"e_vec\": self.e_vec,\n",
    "            \"h_vec\": self.h_vec,\n",
    "            \"n_vec\": self.n_vec,\n",
    "            \"nu\": self.nu,\n",
    "            \"Pi\": self.Pi,\n",
    "            \"h\": self.h,\n",
    "            \"r_vec\": self.r_vec,\n",
    "            \"r\": self.r,\n",
    "            \"v_vec\": self.v_vec,\n",
    "            \"v\": self.v,\n",
    "            \"E\": self.E,\n",
    "            \"p\": self.p\n",
    "        }\n",
    "        \n",
    "        return params\n",
    "        \n",
    "    \n",
    "    def transf_peri_geo(self, omega, little_omega, i):\n",
    "        IdotP = math.cos(omega)*math.cos(little_omega) - math.sin(omega)*math.sin(little_omega)*math.cos(i)\n",
    "        IdotQ = -math.cos(omega)*math.sin(little_omega) - math.sin(omega)*math.cos(little_omega)*math.cos(i)\n",
    "        IdotW = math.sin(omega)*math.sin(i)\n",
    "\n",
    "        JdotP = math.sin(omega)*math.cos(little_omega) - math.cos(omega)*math.sin(little_omega)*math.cos(i)\n",
    "        JdotQ = -math.sin(omega)*math.sin(little_omega) + math.cos(omega)*math.cos(little_omega)*math.cos(i)\n",
    "        JdotW = -math.cos(omega)*math.sin(i)\n",
    "\n",
    "        KdotP = math.sin(little_omega)*math.sin(i)\n",
    "        KdotQ = math.cos(little_omega)*math.sin(i)\n",
    "        KdotW = math.cos(i)\n",
    "\n",
    "        R = np.matrix([[IdotP, IdotQ, IdotW], [JdotP, JdotQ, JdotW], [KdotP, KdotQ, KdotW]])\n",
    "\n",
    "        return R\n",
    "    \n",
    "    \n",
    "    def constants_of_motion(self):\n",
    "        r = self.r\n",
    "        v = self.v\n",
    "        r_vec = self.r_vec\n",
    "        v_vec = self.v_vec\n",
    "        \n",
    "        self.h_vec = np.cross(r_vec, v_vec)\n",
    "        self.e_vec = (v**2 - 1./r)*r_vec - (np.dot(r_vec, v_vec))*v_vec\n",
    "        self.n_vec = np.cross([0,0,1], self.h_vec)\n",
    "        \n",
    "        self.h = np.linalg.norm(self.h_vec)\n",
    "        self.e = np.linalg.norm(self.e_vec)\n",
    "        self.n = np.linalg.norm(self.n_vec)\n",
    "        \n",
    "        self.E = 0.5*v**2 - 1./r\n",
    "        \n",
    "        \n",
    "    \n",
    "    def from_params(self, a, e, Omega, omega, i, nu):\n",
    "        self.Omega = Omega\n",
    "        self.omega = omega\n",
    "        self.i = i\n",
    "        self.e = e\n",
    "        self.a = a\n",
    "        self.nu = nu\n",
    "        \n",
    "        R = self.transf_peri_geo(Omega, omega, i)\n",
    "        p = a*(1. - e**2)\n",
    "        r = p/(1+e*math.cos(nu))\n",
    "\n",
    "        r_peri = np.array([r*math.cos(nu), r*math.sin(nu), 0])\n",
    "        r_geo = np.squeeze(np.asarray(np.dot(R, r_peri)))\n",
    "\n",
    "        v_peri = math.sqrt(mu/p)*np.array([-math.sin(nu), e+math.cos(nu), 0])\n",
    "        v_geo = np.squeeze(np.asarray(R.dot(v_peri)))\n",
    "        \n",
    "        self.r_vec = r_geo\n",
    "        self.v_vec = v_geo\n",
    "        self.r = np.linalg.norm(self.r_vec)\n",
    "        self.v = np.linalg.norm(self.v_vec)\n",
    "        \n",
    "        self.constants_of_motion()\n",
    "    \n",
    "    \n",
    "    def compute_angles(self):\n",
    "        i = math.acos(np.dot([0,0,1], self.h_vec)/self.h)\n",
    "        self.i = i if not np.isnan(i) else 0\n",
    "\n",
    "        Omega = math.acos(np.dot([1,0,0], self.n_vec)/self.n)\n",
    "        self.Omega = Omega if not np.isnan(Omega) else 0\n",
    "\n",
    "        omega = math.acos(np.dot(self.e_vec, self.n_vec)/(self.e * self.n ) )\n",
    "        self.omega = omega if not np.isnan(omega) else 0\n",
    "        \n",
    "        #Longitude of periapsis\n",
    "        self.Pi = math.acos(self.e_vec[0]/self.e)\n",
    "\n",
    "    \n",
    "    \n",
    "    def from_r_v(self, r_vec, v_vec):\n",
    "        self.r_vec = r_vec\n",
    "        self.v_vec = v_vec\n",
    "        \n",
    "        self.r = np.linalg.norm(self.r_vec)\n",
    "        self.v = np.linalg.norm(self.v_vec)\n",
    "        \n",
    "        self.constants_of_motion()\n",
    "        self.compute_angles()\n",
    "        \n",
    "        self.nu = math.acos(np.dot(self.e_vec, self.r_vec)/(self.e * self.r))\n",
    "\n",
    "        \n",
    "\n",
    "        \n",
    "    def from_constants_of_motion(self, h_vec, e_vec, n_vec, nu):\n",
    "        \n",
    "        self.nu = nu\n",
    "        self.h_vec = h_vec\n",
    "        self.e_vec = e_vec\n",
    "        self.n_vec = n_vec\n",
    "        \n",
    "        \n",
    "        \n",
    "        self.compute_angles()\n",
    "        self.from_params(self.a, self.e, self.Omega, self.omega, self.i, self.nu)\n",
    "        \n",
    "    \n",
    "        \n",
    "        \n",
    "        \n",
    "        "
   ]
  },
  {
   "cell_type": "code",
   "execution_count": 316,
   "metadata": {
    "collapsed": true
   },
   "outputs": [],
   "source": [
    "orbit = Orbit()\n",
    "orbit.from_params(2.1, 0.5, 0,0,0, 0.5*math.pi)"
   ]
  },
  {
   "cell_type": "code",
   "execution_count": 317,
   "metadata": {},
   "outputs": [
    {
     "data": {
      "text/plain": [
       "-0.23809523809523797"
      ]
     },
     "execution_count": 317,
     "metadata": {},
     "output_type": "execute_result"
    }
   ],
   "source": [
    "orbit.E"
   ]
  },
  {
   "cell_type": "markdown",
   "metadata": {},
   "source": [
    "#### Transformation matrix from perifocal to geocentric equatorial"
   ]
  },
  {
   "cell_type": "code",
   "execution_count": 4,
   "metadata": {
    "collapsed": true
   },
   "outputs": [],
   "source": [
    "def transf_peri_geo(omega, little_omega, i):\n",
    "    IdotP = math.cos(omega)*math.cos(little_omega) - math.sin(omega)*math.sin(little_omega)*math.cos(i)\n",
    "    IdotQ = -math.cos(omega)*math.sin(little_omega) - math.sin(omega)*math.cos(little_omega)*math.cos(i)\n",
    "    IdotW = math.sin(omega)*math.sin(i)\n",
    "\n",
    "    JdotP = math.sin(omega)*math.cos(little_omega) - math.cos(omega)*math.sin(little_omega)*math.cos(i)\n",
    "    JdotQ = -math.sin(omega)*math.sin(little_omega) + math.cos(omega)*math.cos(little_omega)*math.cos(i)\n",
    "    JdotW = -math.cos(omega)*math.sin(i)\n",
    "\n",
    "    KdotP = math.sin(little_omega)*math.sin(i)\n",
    "    KdotQ = math.cos(little_omega)*math.sin(i)\n",
    "    KdotW = math.cos(i)\n",
    "\n",
    "    R = np.matrix([[IdotP, IdotQ, IdotW], [JdotP, JdotQ, JdotW], [KdotP, KdotQ, KdotW]])\n",
    "    \n",
    "    return R"
   ]
  },
  {
   "cell_type": "markdown",
   "metadata": {},
   "source": [
    "#### From orbital parameters to position and velocity in geocentric equatorial coordinates"
   ]
  },
  {
   "cell_type": "code",
   "execution_count": 7,
   "metadata": {
    "collapsed": true
   },
   "outputs": [],
   "source": [
    "def params_to_pos_vel(a, e,omega, little_omega, i, nu):\n",
    "    R = transf_peri_geo(omega, little_omega, i)\n",
    "    p = a*(1. - e**2)\n",
    "    r = p/(1+e*math.cos(nu))\n",
    "    \n",
    "    r_peri = np.array([r*math.cos(nu), r*math.sin(nu), 0])\n",
    "    r_geo = np.squeeze(np.asarray(np.dot(R, r_peri)))\n",
    "    \n",
    "    v_peri = math.sqrt(mu/p)*np.array([-math.sin(nu), e+math.cos(nu), 0])\n",
    "    v_geo = np.squeeze(np.asarray(R.dot(v_peri)))\n",
    "    \n",
    "    return (r_geo, v_geo, )\n",
    "                        "
   ]
  },
  {
   "cell_type": "markdown",
   "metadata": {},
   "source": [
    "#### From position and velocity to orbital parameters"
   ]
  },
  {
   "cell_type": "code",
   "execution_count": 180,
   "metadata": {
    "collapsed": true
   },
   "outputs": [],
   "source": [
    "def pos_vel_to_params(r_geo, v_geo):\n",
    "    r = np.linalg.norm(r_geo)\n",
    "    v = np.linalg.norm(v_geo)\n",
    "    \n",
    "    h_geo = np.cross(r_geo, v_geo)\n",
    "    e_geo = (v**2 - 1./r)*r_geo - (np.dot(r_geo, v_geo))*v_geo\n",
    "    n_geo = np.cross([0,0,1], h_geo)\n",
    "    \n",
    "    h_mod = np.linalg.norm(h_geo)\n",
    "    e_mod = np.linalg.norm(e_geo)\n",
    "    n_mod = np.linalg.norm(n_geo)\n",
    "    \n",
    "    v_mod = np.linalg.norm(v_geo)\n",
    "    r_mod = np.linalg.norm(r_geo)\n",
    "    \n",
    "    \n",
    "    i = math.acos(np.dot([0,0,1], h_geo)/h_mod)\n",
    "    i = i if not np.isnan(i) else 0\n",
    "    \n",
    "    omega = math.acos(np.dot([1,0,0], n_geo)/n_mod)\n",
    "    omega = omega if not np.isnan(omega) else 0\n",
    "    \n",
    "    little_omega = math.acos(np.dot(e_geo, n_geo)/(e_mod * n_mod ) )\n",
    "    little_omega = little_omega if not np.isnan(little_omega) else 0\n",
    "    \n",
    "    nu = math.acos(np.dot(e_geo, r_geo)/(e_mod*r_mod))\n",
    "    \n",
    "    #Longitude of periapsis\n",
    "    Pi = math.acos(e_geo[0]/e_mod)\n",
    "    \n",
    "    \n",
    "    l_not = Pi + nu\n",
    "    \n",
    "    \n",
    "    p = np.linalg.norm(h_geo)**2\n",
    "    a = p/(1.-e_mod**2)\n",
    "    \n",
    "    angles_degrees = {\n",
    "        \"i\": i,\n",
    "        \"omega\": omega,\n",
    "        \"little_omega\": little_omega,\n",
    "        \"nu\": nu,\n",
    "        \"Pi\": Pi,\n",
    "        \"l_not\": l_not\n",
    "    }\n",
    "    \n",
    "    angles_degrees = {k : v*180/math.pi for k,v in angles_degrees.iteritems()}\n",
    "    \n",
    "    params = {\"h_geo\": h_geo,\n",
    "             \"e_geo\": e_geo,\n",
    "             \"n_geo\": n_geo,\n",
    "             \"i\": i,\n",
    "             \"omega\": omega,\n",
    "             \"little_omega\": little_omega,\n",
    "             \"nu\": nu,\n",
    "             \"p\": p,\n",
    "             \"e\": e_mod,\n",
    "             \"a\": a,\n",
    "             \"Pi\": Pi,\n",
    "             \"l_not\": l_not,\n",
    "             \"angles_degrees\": angles_degrees}\n",
    "    \n",
    "    return params\n",
    "                   \n",
    "                   \n",
    "    \n",
    "    \n",
    "    "
   ]
  },
  {
   "cell_type": "code",
   "execution_count": null,
   "metadata": {
    "collapsed": true
   },
   "outputs": [],
   "source": []
  },
  {
   "cell_type": "code",
   "execution_count": null,
   "metadata": {
    "collapsed": true
   },
   "outputs": [],
   "source": []
  },
  {
   "cell_type": "markdown",
   "metadata": {},
   "source": [
    "#### Constant mu"
   ]
  },
  {
   "cell_type": "code",
   "execution_count": 5,
   "metadata": {
    "collapsed": true
   },
   "outputs": [],
   "source": [
    "mu = 1\n",
    "mu_1 = 3.986004418e+14"
   ]
  },
  {
   "cell_type": "markdown",
   "metadata": {},
   "source": [
    "#### Orbital parameters\n"
   ]
  },
  {
   "cell_type": "code",
   "execution_count": 223,
   "metadata": {
    "collapsed": true
   },
   "outputs": [],
   "source": [
    "a = 2\n",
    "e = .5\n",
    "\n",
    "#Angles in radians!\n",
    "i = 0\n",
    "little_omega = 0\n",
    "omega = 0\n",
    "nu = 0.5*math.pi"
   ]
  },
  {
   "cell_type": "code",
   "execution_count": 224,
   "metadata": {
    "collapsed": true
   },
   "outputs": [],
   "source": [
    "r_ini, v_ini = params_to_pos_vel(a, e,omega, little_omega, i, nu)"
   ]
  },
  {
   "cell_type": "code",
   "execution_count": 225,
   "metadata": {},
   "outputs": [
    {
     "data": {
      "text/plain": [
       "array([9.18485099e-17, 1.50000000e+00, 0.00000000e+00])"
      ]
     },
     "execution_count": 225,
     "metadata": {},
     "output_type": "execute_result"
    }
   ],
   "source": [
    "r_ini"
   ]
  },
  {
   "cell_type": "code",
   "execution_count": 226,
   "metadata": {},
   "outputs": [
    {
     "data": {
      "text/plain": [
       "array([-0.81649658,  0.40824829,  0.        ])"
      ]
     },
     "execution_count": 226,
     "metadata": {},
     "output_type": "execute_result"
    }
   ],
   "source": [
    "v_ini"
   ]
  },
  {
   "cell_type": "code",
   "execution_count": 227,
   "metadata": {
    "collapsed": true
   },
   "outputs": [],
   "source": [
    "v_ini_norm = np.linalg.norm(v_ini)"
   ]
  },
  {
   "cell_type": "code",
   "execution_count": 228,
   "metadata": {},
   "outputs": [
    {
     "data": {
      "text/plain": [
       "0.9128709291752769"
      ]
     },
     "execution_count": 228,
     "metadata": {},
     "output_type": "execute_result"
    }
   ],
   "source": [
    "v_ini_norm"
   ]
  },
  {
   "cell_type": "code",
   "execution_count": 229,
   "metadata": {},
   "outputs": [
    {
     "name": "stderr",
     "output_type": "stream",
     "text": [
      "/home/edoardo/anaconda2/lib/python2.7/site-packages/ipykernel_launcher.py:20: RuntimeWarning: invalid value encountered in double_scalars\n",
      "/home/edoardo/anaconda2/lib/python2.7/site-packages/ipykernel_launcher.py:23: RuntimeWarning: invalid value encountered in double_scalars\n"
     ]
    },
    {
     "data": {
      "text/plain": [
       "{'Pi': 0.0,\n",
       " 'a': 1.9999999999999998,\n",
       " 'angles_degrees': {'Pi': 0.0,\n",
       "  'i': 0.0,\n",
       "  'l_not': 90.0,\n",
       "  'little_omega': 0.0,\n",
       "  'nu': 90.0,\n",
       "  'omega': 0.0},\n",
       " 'e': 0.5,\n",
       " 'e_geo': array([0.5, 0. , 0. ]),\n",
       " 'h_geo': array([ 0.        , -0.        ,  1.22474487]),\n",
       " 'i': 0.0,\n",
       " 'l_not': 1.5707963267948966,\n",
       " 'little_omega': 0,\n",
       " 'n_geo': array([ 0.,  0., -0.]),\n",
       " 'nu': 1.5707963267948966,\n",
       " 'omega': 0,\n",
       " 'p': 1.4999999999999998}"
      ]
     },
     "execution_count": 229,
     "metadata": {},
     "output_type": "execute_result"
    }
   ],
   "source": [
    "params_ini = pos_vel_to_params(r_ini, v_ini)\n",
    "params_ini"
   ]
  },
  {
   "cell_type": "code",
   "execution_count": null,
   "metadata": {
    "collapsed": true
   },
   "outputs": [],
   "source": []
  },
  {
   "cell_type": "code",
   "execution_count": 263,
   "metadata": {
    "collapsed": true
   },
   "outputs": [],
   "source": [
    "v_fin_geo = 1.2*v_ini"
   ]
  },
  {
   "cell_type": "code",
   "execution_count": 264,
   "metadata": {},
   "outputs": [
    {
     "data": {
      "text/plain": [
       "array([-0.9797959 ,  0.48989795,  0.        ])"
      ]
     },
     "execution_count": 264,
     "metadata": {},
     "output_type": "execute_result"
    }
   ],
   "source": [
    "v_fin_geo"
   ]
  },
  {
   "cell_type": "code",
   "execution_count": 265,
   "metadata": {},
   "outputs": [
    {
     "data": {
      "text/plain": [
       "array([0., 0., 0.])"
      ]
     },
     "execution_count": 265,
     "metadata": {},
     "output_type": "execute_result"
    }
   ],
   "source": [
    "np.cross(v_ini, v_fin_geo)"
   ]
  },
  {
   "cell_type": "code",
   "execution_count": 266,
   "metadata": {
    "collapsed": true
   },
   "outputs": [],
   "source": [
    "r_fin_geo = r_ini"
   ]
  },
  {
   "cell_type": "code",
   "execution_count": 267,
   "metadata": {},
   "outputs": [
    {
     "name": "stderr",
     "output_type": "stream",
     "text": [
      "/home/edoardo/anaconda2/lib/python2.7/site-packages/ipykernel_launcher.py:20: RuntimeWarning: invalid value encountered in double_scalars\n",
      "/home/edoardo/anaconda2/lib/python2.7/site-packages/ipykernel_launcher.py:23: RuntimeWarning: invalid value encountered in double_scalars\n"
     ]
    }
   ],
   "source": [
    "params_fin = pos_vel_to_params(r_fin_geo, v_fin_geo)"
   ]
  },
  {
   "cell_type": "code",
   "execution_count": 268,
   "metadata": {},
   "outputs": [
    {
     "data": {
      "text/plain": [
       "{'Pi': 0.5485494024505277,\n",
       " 'a': 7.499999999999991,\n",
       " 'angles_degrees': {'Pi': 31.429565614838495,\n",
       "  'i': 0.0,\n",
       "  'l_not': 90.00000000000001,\n",
       "  'little_omega': 0.0,\n",
       "  'nu': 58.57043438516152,\n",
       "  'omega': 0.0},\n",
       " 'e': 0.8438009243891592,\n",
       " 'e_geo': array([0.72, 0.44, 0.  ]),\n",
       " 'h_geo': array([ 0.        , -0.        ,  1.46969385]),\n",
       " 'i': 0.0,\n",
       " 'l_not': 1.5707963267948968,\n",
       " 'little_omega': 0,\n",
       " 'n_geo': array([ 0.,  0., -0.]),\n",
       " 'nu': 1.022246924344369,\n",
       " 'omega': 0,\n",
       " 'p': 2.16}"
      ]
     },
     "execution_count": 268,
     "metadata": {},
     "output_type": "execute_result"
    }
   ],
   "source": [
    "params_fin"
   ]
  },
  {
   "cell_type": "code",
   "execution_count": 269,
   "metadata": {},
   "outputs": [
    {
     "data": {
      "text/plain": [
       "(array([0.78217501, 1.27992275, 0.        ]),\n",
       " array([-0.58058475,  0.9289356 ,  0.        ]))"
      ]
     },
     "execution_count": 269,
     "metadata": {},
     "output_type": "execute_result"
    }
   ],
   "source": [
    "params_to_pos_vel(params_fin[\"a\"], params_fin[\"e\"], params_fin[\"omega\"], params_fin[\"little_omega\"], \n",
    "                  params_fin[\"i\"], params_fin[\"nu\"])"
   ]
  },
  {
   "cell_type": "code",
   "execution_count": 270,
   "metadata": {},
   "outputs": [
    {
     "data": {
      "text/plain": [
       "array([9.18485099e-17, 1.50000000e+00, 0.00000000e+00])"
      ]
     },
     "execution_count": 270,
     "metadata": {},
     "output_type": "execute_result"
    }
   ],
   "source": [
    "r_fin_geo"
   ]
  },
  {
   "cell_type": "code",
   "execution_count": 271,
   "metadata": {},
   "outputs": [
    {
     "data": {
      "text/plain": [
       "array([-0.9797959 ,  0.48989795,  0.        ])"
      ]
     },
     "execution_count": 271,
     "metadata": {},
     "output_type": "execute_result"
    }
   ],
   "source": [
    "v_fin_geo"
   ]
  },
  {
   "cell_type": "code",
   "execution_count": 272,
   "metadata": {
    "collapsed": true
   },
   "outputs": [],
   "source": [
    "sim = rebound.Simulation()\n",
    "sim.add(m=1)\n",
    "sim.add(m=1e-5, e=e, a=a, inc=i, f=nu, Omega=omega, omega=little_omega)\n",
    "sim.add(m=1e-5, e=params_fin[\"e\"], a=params_fin[\"a\"], inc=params_fin[\"i\"], \n",
    "        f=params_fin[\"nu\"], Omega=params_fin[\"omega\"],\n",
    "       pomega=params_fin[\"Pi\"])"
   ]
  },
  {
   "cell_type": "code",
   "execution_count": 274,
   "metadata": {},
   "outputs": [
    {
     "name": "stderr",
     "output_type": "stream",
     "text": [
      "/home/edoardo/anaconda2/lib/python2.7/site-packages/matplotlib/cbook/deprecation.py:106: MatplotlibDeprecationWarning: Adding an axes using the same arguments as a previous axes currently reuses the earlier instance.  In a future version, a new instance will always be created and returned.  Meanwhile, this warning can be suppressed, and the future behavior ensured, by passing a unique label to each axes instance.\n",
      "  warnings.warn(message, mplDeprecation, stacklevel=1)\n"
     ]
    },
    {
     "data": {
      "image/png": "[encoded data removed]",
      "text/plain": [
       "<matplotlib.figure.Figure at 0x7fe1c36c3610>"
      ]
     },
     "metadata": {},
     "output_type": "display_data"
    }
   ],
   "source": [
    "fig = rebound.OrbitPlot(sim, unitlabel=\"[AU]\", color=True, periastron=True, figsize=(10,10), slices=True)"
   ]
  },
  {
   "cell_type": "code",
   "execution_count": null,
   "metadata": {
    "collapsed": true
   },
   "outputs": [],
   "source": []
  }
 ],
 "metadata": {
  "kernelspec": {
   "display_name": "Python 2",
   "language": "python",
   "name": "python2"
  },
  "language_info": {
   "codemirror_mode": {
    "name": "ipython",
    "version": 2
   },
   "file_extension": ".py",
   "mimetype": "text/x-python",
   "name": "python",
   "nbconvert_exporter": "python",
   "pygments_lexer": "ipython2",
   "version": "2.7.14"
  }
 },
 "nbformat": 4,
 "nbformat_minor": 2
}
